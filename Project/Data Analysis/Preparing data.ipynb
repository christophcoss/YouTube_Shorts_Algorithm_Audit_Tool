{
 "cells": [
  {
   "metadata": {},
   "cell_type": "markdown",
   "source": [
    "# Preparing data for analysis\n",
    "\n",
    "Before we can start analyzing the data, we need to prepare it. This includes cleaning the data and transforming it so that it is easier to obtain the information we want."
   ],
   "id": "b7e9db94ed602efe"
  },
  {
   "metadata": {},
   "cell_type": "markdown",
   "source": "### Importing libraries",
   "id": "c402af3326abd3c0"
  },
  {
   "cell_type": "code",
   "id": "initial_id",
   "metadata": {
    "collapsed": true,
    "ExecuteTime": {
     "end_time": "2024-07-25T20:33:15.479899Z",
     "start_time": "2024-07-25T20:33:15.477026Z"
    }
   },
   "source": [
    "from dotenv import load_dotenv\n",
    "import os\n",
    "import pandas as pd\n",
    "import json\n",
    "from Project.Helpers.database import Database\n",
    "from openai import OpenAI\n",
    "from Project.Helpers.Classes import User\n",
    "import ast"
   ],
   "outputs": [],
   "execution_count": 136
  },
  {
   "metadata": {},
   "cell_type": "markdown",
   "source": "### API setup",
   "id": "a50503e7a030adf3"
  },
  {
   "metadata": {
    "ExecuteTime": {
     "end_time": "2024-07-25T20:33:15.516544Z",
     "start_time": "2024-07-25T20:33:15.505902Z"
    }
   },
   "cell_type": "code",
   "source": [
    "load_dotenv()\n",
    "OPENAI_API_KEY = os.getenv(\"OPENAI_API_KEY\")\n",
    "#APIS\n",
    "llm = OpenAI(\n",
    "    api_key=OPENAI_API_KEY\n",
    ")\n",
    "\n",
    "\n",
    "#API FUNCTIONS\n",
    "def get_completion_from_messages(messages, model='gpt-4o', temperature=0, max_tokens=4096):\n",
    "    response = llm.chat.completions.create(\n",
    "        model=model,\n",
    "        messages=messages,\n",
    "        temperature=temperature,\n",
    "        max_tokens=max_tokens,\n",
    "        response_format={\"type\": \"json_object\"}\n",
    "    )\n",
    "    return response.choices[0].message.content\n",
    "\n"
   ],
   "id": "b2924a8910a61a4",
   "outputs": [],
   "execution_count": 137
  },
  {
   "metadata": {},
   "cell_type": "markdown",
   "source": "### Setting the parameters",
   "id": "54c0d0b7edfab290"
  },
  {
   "metadata": {
    "ExecuteTime": {
     "end_time": "2024-07-25T20:33:15.519258Z",
     "start_time": "2024-07-25T20:33:15.517547Z"
    }
   },
   "cell_type": "code",
   "source": [
    "user_ids = [2,22, 12, 28, 7]\n",
    "user_id = 2"
   ],
   "id": "b4f53071d2dcb24d",
   "outputs": [],
   "execution_count": 138
  },
  {
   "metadata": {},
   "cell_type": "markdown",
   "source": "### Loading the user data ",
   "id": "f77fc2e8667997f4"
  },
  {
   "metadata": {
    "ExecuteTime": {
     "end_time": "2024-07-25T20:33:15.522779Z",
     "start_time": "2024-07-25T20:33:15.519258Z"
    }
   },
   "cell_type": "code",
   "source": [
    "def initialize_user(user_id):\n",
    "    with open('../Input_data/users.json') as f:\n",
    "        users = json.load(f)\n",
    "    user = User([user for user in users if user['id'] == user_id][0])\n",
    "\n",
    "    return user.username, user.interests\n",
    "\n",
    "username, interests = initialize_user(user_id)"
   ],
   "id": "925281c9f5695e79",
   "outputs": [],
   "execution_count": 139
  },
  {
   "metadata": {},
   "cell_type": "markdown",
   "source": "### Loading the data",
   "id": "bd251e9329788f2f"
  },
  {
   "metadata": {
    "ExecuteTime": {
     "end_time": "2024-07-25T20:33:15.537749Z",
     "start_time": "2024-07-25T20:33:15.523782Z"
    }
   },
   "cell_type": "code",
   "source": [
    "database = Database('../database.db')\n",
    "\n",
    "videos = database.get_videos_sorted_by_oldest_with_metadata(user_id=user_id)\n",
    "\n",
    "classifications = pd.DataFrame(videos)\n"
   ],
   "id": "6b80d59abee2c1cd",
   "outputs": [],
   "execution_count": 140
  },
  {
   "metadata": {},
   "cell_type": "markdown",
   "source": "Making sure the data is loaded correctly",
   "id": "7388c99e0f759a66"
  },
  {
   "metadata": {
    "ExecuteTime": {
     "end_time": "2024-07-25T20:33:15.546646Z",
     "start_time": "2024-07-25T20:33:15.537749Z"
    }
   },
   "cell_type": "code",
   "source": "classifications",
   "id": "c11ccd740d844acd",
   "outputs": [
    {
     "data": {
      "text/plain": [
       "       id                                         url     video_id  user_id  \\\n",
       "0     240  https://www.youtube.com/shorts/izPP2qTQf-g  izPP2qTQf-g        2   \n",
       "1     241  https://www.youtube.com/shorts/pKZzDo8SzOE  pKZzDo8SzOE        2   \n",
       "2     242  https://www.youtube.com/shorts/sWLU3trCl6I  sWLU3trCl6I        2   \n",
       "3     243  https://www.youtube.com/shorts/IErTfXHG5lY  IErTfXHG5lY        2   \n",
       "4     244  https://www.youtube.com/shorts/3jOJUUVmayc  3jOJUUVmayc        2   \n",
       "..    ...                                         ...          ...      ...   \n",
       "935  1175  https://www.youtube.com/shorts/cGvs03nfdfM  cGvs03nfdfM        2   \n",
       "936  1176  https://www.youtube.com/shorts/0ThGDdsz0c8  0ThGDdsz0c8        2   \n",
       "937  1177  https://www.youtube.com/shorts/9oLGOz4sQPg  9oLGOz4sQPg        2   \n",
       "938  1178  https://www.youtube.com/shorts/Dhtwz5VWkOY  Dhtwz5VWkOY        2   \n",
       "939  1179  https://www.youtube.com/shorts/htHGIrJe5yw  htHGIrJe5yw        2   \n",
       "\n",
       "    parent_classification classification   reaction  \\\n",
       "0                   Music     Eurovision   ['skip']   \n",
       "1                  Comedy         Shorts   ['skip']   \n",
       "2           Entertainment         Gaming   ['skip']   \n",
       "3           Howto & Style         Sports   ['skip']   \n",
       "4               Lifestyle           Food   ['skip']   \n",
       "..                    ...            ...        ...   \n",
       "935                Sports       Football  ['watch']   \n",
       "936                 Hobby   Rubik's Cube  ['watch']   \n",
       "937         Entertainment         Sports  ['watch']   \n",
       "938        Pets & Animals   Dog Training  ['watch']   \n",
       "939                Sports       Football  ['watch']   \n",
       "\n",
       "                                                reason    execution_time  \\\n",
       "0    The user would skip the video because it is pr...   2.7263605594635   \n",
       "1    The user would skip the video because it is ca...  2.42585802078247   \n",
       "2    The video is classified under Gaming and Enter...  2.71519923210144   \n",
       "3    The video is about sports but the title and de...  3.16527032852173   \n",
       "4    The user would skip the video because it is ab...  2.30350661277771   \n",
       "..                                                 ...               ...   \n",
       "935  The user has an interest in sports, and the vi...  2.70490789413452   \n",
       "936  The user would watch the video because it is r...  2.64732956886291   \n",
       "937  The user would watch the video because it is r...  2.75018906593323   \n",
       "938  The user would watch the video because it is r...  3.10743451118469   \n",
       "939  The user would watch the video because it is r...  2.41717290878296   \n",
       "\n",
       "               timestamp                                              title  \\\n",
       "0    2024-06-08 18:52:47  Netherlands 🇳🇱 Backstage at the Turquoise Carp...   \n",
       "1    2024-06-08 18:52:50                      PEDRO 🤪🦆 #shorts #adanifamily   \n",
       "2    2024-06-08 18:52:54  EM 10001 Video NA Puzzle 2N OutTreausureMonste...   \n",
       "3    2024-06-08 18:52:58               My sister at Netherlands nation team   \n",
       "4    2024-06-08 18:53:02                  Ăn vặt tuổi thơ 2 p2665:, #shorts   \n",
       "..                   ...                                                ...   \n",
       "935  2024-06-09 01:18:51                     Toni Kroos Evolution 2006-2024   \n",
       "936  2024-06-09 01:19:59  2012 Rubik’s cube solve blindfold world record...   \n",
       "937  2024-06-09 01:20:44                         Ronaldo shows some love!❤️   \n",
       "938  2024-06-09 01:21:24  Sapphie the pomsky tells daddy to make dinner ...   \n",
       "939  2024-06-09 01:21:48  Reason Why Barcelona Fans Hate Cristiano Ronal...   \n",
       "\n",
       "                                           description  \\\n",
       "0                                                        \n",
       "1                                                        \n",
       "2    EM 10001 Video NA Puzzle 2N OutTreausureMonste...   \n",
       "3                       wwwhandyitemscom.bigcartel.com   \n",
       "4                                                        \n",
       "..                                                 ...   \n",
       "935  #football #foot #footballedits #footballshorts...   \n",
       "936                                                      \n",
       "937                                                      \n",
       "938  Sapphie the pomsky tells daddy to make dinner ...   \n",
       "939                                                      \n",
       "\n",
       "                                                  tags playtime  \\\n",
       "0                                                          10.0   \n",
       "1                                                           9.0   \n",
       "2                                                          29.0   \n",
       "3                                                           7.0   \n",
       "4                                                          16.0   \n",
       "..                                                 ...      ...   \n",
       "935  ['toni kroos', 'kroos', 'vinicius', 'vinijr', ...     61.0   \n",
       "936                                                        39.0   \n",
       "937                                                        33.0   \n",
       "938  ['sapphiethepomsky', 'sapphie', 'pomsky', 'pom...     18.0   \n",
       "939                                                        41.0   \n",
       "\n",
       "           channel_name youtube_category                      youtube_topics  \n",
       "0       Yura Poghossian   People & Blogs                           ['Music']  \n",
       "1          Adani Family           Comedy           ['Lifestyle_(sociology)']  \n",
       "2                 Evony   People & Blogs                                  []  \n",
       "3                    MR    Howto & Style                           ['Sport']  \n",
       "4           Crazy Santu    Entertainment   ['Food', 'Lifestyle_(sociology)']  \n",
       "..                  ...              ...                                 ...  \n",
       "935       champagneyaya           Sports   ['Association_football', 'Sport']  \n",
       "936               Cubix        Education  ['Hobby', 'Lifestyle_(sociology)']  \n",
       "937           MOVEMANIA   People & Blogs                   ['Entertainment']  \n",
       "938  sapphie_the_pomsky   Pets & Animals    ['Lifestyle_(sociology)', 'Pet']  \n",
       "939         @xa07_Editx           Sports   ['Association_football', 'Sport']  \n",
       "\n",
       "[940 rows x 17 columns]"
      ],
      "text/html": [
       "<div>\n",
       "<style scoped>\n",
       "    .dataframe tbody tr th:only-of-type {\n",
       "        vertical-align: middle;\n",
       "    }\n",
       "\n",
       "    .dataframe tbody tr th {\n",
       "        vertical-align: top;\n",
       "    }\n",
       "\n",
       "    .dataframe thead th {\n",
       "        text-align: right;\n",
       "    }\n",
       "</style>\n",
       "<table border=\"1\" class=\"dataframe\">\n",
       "  <thead>\n",
       "    <tr style=\"text-align: right;\">\n",
       "      <th></th>\n",
       "      <th>id</th>\n",
       "      <th>url</th>\n",
       "      <th>video_id</th>\n",
       "      <th>user_id</th>\n",
       "      <th>parent_classification</th>\n",
       "      <th>classification</th>\n",
       "      <th>reaction</th>\n",
       "      <th>reason</th>\n",
       "      <th>execution_time</th>\n",
       "      <th>timestamp</th>\n",
       "      <th>title</th>\n",
       "      <th>description</th>\n",
       "      <th>tags</th>\n",
       "      <th>playtime</th>\n",
       "      <th>channel_name</th>\n",
       "      <th>youtube_category</th>\n",
       "      <th>youtube_topics</th>\n",
       "    </tr>\n",
       "  </thead>\n",
       "  <tbody>\n",
       "    <tr>\n",
       "      <th>0</th>\n",
       "      <td>240</td>\n",
       "      <td>https://www.youtube.com/shorts/izPP2qTQf-g</td>\n",
       "      <td>izPP2qTQf-g</td>\n",
       "      <td>2</td>\n",
       "      <td>Music</td>\n",
       "      <td>Eurovision</td>\n",
       "      <td>['skip']</td>\n",
       "      <td>The user would skip the video because it is pr...</td>\n",
       "      <td>2.7263605594635</td>\n",
       "      <td>2024-06-08 18:52:47</td>\n",
       "      <td>Netherlands 🇳🇱 Backstage at the Turquoise Carp...</td>\n",
       "      <td></td>\n",
       "      <td></td>\n",
       "      <td>10.0</td>\n",
       "      <td>Yura Poghossian</td>\n",
       "      <td>People &amp; Blogs</td>\n",
       "      <td>['Music']</td>\n",
       "    </tr>\n",
       "    <tr>\n",
       "      <th>1</th>\n",
       "      <td>241</td>\n",
       "      <td>https://www.youtube.com/shorts/pKZzDo8SzOE</td>\n",
       "      <td>pKZzDo8SzOE</td>\n",
       "      <td>2</td>\n",
       "      <td>Comedy</td>\n",
       "      <td>Shorts</td>\n",
       "      <td>['skip']</td>\n",
       "      <td>The user would skip the video because it is ca...</td>\n",
       "      <td>2.42585802078247</td>\n",
       "      <td>2024-06-08 18:52:50</td>\n",
       "      <td>PEDRO 🤪🦆 #shorts #adanifamily</td>\n",
       "      <td></td>\n",
       "      <td></td>\n",
       "      <td>9.0</td>\n",
       "      <td>Adani Family</td>\n",
       "      <td>Comedy</td>\n",
       "      <td>['Lifestyle_(sociology)']</td>\n",
       "    </tr>\n",
       "    <tr>\n",
       "      <th>2</th>\n",
       "      <td>242</td>\n",
       "      <td>https://www.youtube.com/shorts/sWLU3trCl6I</td>\n",
       "      <td>sWLU3trCl6I</td>\n",
       "      <td>2</td>\n",
       "      <td>Entertainment</td>\n",
       "      <td>Gaming</td>\n",
       "      <td>['skip']</td>\n",
       "      <td>The video is classified under Gaming and Enter...</td>\n",
       "      <td>2.71519923210144</td>\n",
       "      <td>2024-06-08 18:52:54</td>\n",
       "      <td>EM 10001 Video NA Puzzle 2N OutTreausureMonste...</td>\n",
       "      <td>EM 10001 Video NA Puzzle 2N OutTreausureMonste...</td>\n",
       "      <td></td>\n",
       "      <td>29.0</td>\n",
       "      <td>Evony</td>\n",
       "      <td>People &amp; Blogs</td>\n",
       "      <td>[]</td>\n",
       "    </tr>\n",
       "    <tr>\n",
       "      <th>3</th>\n",
       "      <td>243</td>\n",
       "      <td>https://www.youtube.com/shorts/IErTfXHG5lY</td>\n",
       "      <td>IErTfXHG5lY</td>\n",
       "      <td>2</td>\n",
       "      <td>Howto &amp; Style</td>\n",
       "      <td>Sports</td>\n",
       "      <td>['skip']</td>\n",
       "      <td>The video is about sports but the title and de...</td>\n",
       "      <td>3.16527032852173</td>\n",
       "      <td>2024-06-08 18:52:58</td>\n",
       "      <td>My sister at Netherlands nation team</td>\n",
       "      <td>wwwhandyitemscom.bigcartel.com</td>\n",
       "      <td></td>\n",
       "      <td>7.0</td>\n",
       "      <td>MR</td>\n",
       "      <td>Howto &amp; Style</td>\n",
       "      <td>['Sport']</td>\n",
       "    </tr>\n",
       "    <tr>\n",
       "      <th>4</th>\n",
       "      <td>244</td>\n",
       "      <td>https://www.youtube.com/shorts/3jOJUUVmayc</td>\n",
       "      <td>3jOJUUVmayc</td>\n",
       "      <td>2</td>\n",
       "      <td>Lifestyle</td>\n",
       "      <td>Food</td>\n",
       "      <td>['skip']</td>\n",
       "      <td>The user would skip the video because it is ab...</td>\n",
       "      <td>2.30350661277771</td>\n",
       "      <td>2024-06-08 18:53:02</td>\n",
       "      <td>Ăn vặt tuổi thơ 2 p2665:, #shorts</td>\n",
       "      <td></td>\n",
       "      <td></td>\n",
       "      <td>16.0</td>\n",
       "      <td>Crazy Santu</td>\n",
       "      <td>Entertainment</td>\n",
       "      <td>['Food', 'Lifestyle_(sociology)']</td>\n",
       "    </tr>\n",
       "    <tr>\n",
       "      <th>...</th>\n",
       "      <td>...</td>\n",
       "      <td>...</td>\n",
       "      <td>...</td>\n",
       "      <td>...</td>\n",
       "      <td>...</td>\n",
       "      <td>...</td>\n",
       "      <td>...</td>\n",
       "      <td>...</td>\n",
       "      <td>...</td>\n",
       "      <td>...</td>\n",
       "      <td>...</td>\n",
       "      <td>...</td>\n",
       "      <td>...</td>\n",
       "      <td>...</td>\n",
       "      <td>...</td>\n",
       "      <td>...</td>\n",
       "      <td>...</td>\n",
       "    </tr>\n",
       "    <tr>\n",
       "      <th>935</th>\n",
       "      <td>1175</td>\n",
       "      <td>https://www.youtube.com/shorts/cGvs03nfdfM</td>\n",
       "      <td>cGvs03nfdfM</td>\n",
       "      <td>2</td>\n",
       "      <td>Sports</td>\n",
       "      <td>Football</td>\n",
       "      <td>['watch']</td>\n",
       "      <td>The user has an interest in sports, and the vi...</td>\n",
       "      <td>2.70490789413452</td>\n",
       "      <td>2024-06-09 01:18:51</td>\n",
       "      <td>Toni Kroos Evolution 2006-2024</td>\n",
       "      <td>#football #foot #footballedits #footballshorts...</td>\n",
       "      <td>['toni kroos', 'kroos', 'vinicius', 'vinijr', ...</td>\n",
       "      <td>61.0</td>\n",
       "      <td>champagneyaya</td>\n",
       "      <td>Sports</td>\n",
       "      <td>['Association_football', 'Sport']</td>\n",
       "    </tr>\n",
       "    <tr>\n",
       "      <th>936</th>\n",
       "      <td>1176</td>\n",
       "      <td>https://www.youtube.com/shorts/0ThGDdsz0c8</td>\n",
       "      <td>0ThGDdsz0c8</td>\n",
       "      <td>2</td>\n",
       "      <td>Hobby</td>\n",
       "      <td>Rubik's Cube</td>\n",
       "      <td>['watch']</td>\n",
       "      <td>The user would watch the video because it is r...</td>\n",
       "      <td>2.64732956886291</td>\n",
       "      <td>2024-06-09 01:19:59</td>\n",
       "      <td>2012 Rubik’s cube solve blindfold world record...</td>\n",
       "      <td></td>\n",
       "      <td></td>\n",
       "      <td>39.0</td>\n",
       "      <td>Cubix</td>\n",
       "      <td>Education</td>\n",
       "      <td>['Hobby', 'Lifestyle_(sociology)']</td>\n",
       "    </tr>\n",
       "    <tr>\n",
       "      <th>937</th>\n",
       "      <td>1177</td>\n",
       "      <td>https://www.youtube.com/shorts/9oLGOz4sQPg</td>\n",
       "      <td>9oLGOz4sQPg</td>\n",
       "      <td>2</td>\n",
       "      <td>Entertainment</td>\n",
       "      <td>Sports</td>\n",
       "      <td>['watch']</td>\n",
       "      <td>The user would watch the video because it is r...</td>\n",
       "      <td>2.75018906593323</td>\n",
       "      <td>2024-06-09 01:20:44</td>\n",
       "      <td>Ronaldo shows some love!❤️</td>\n",
       "      <td></td>\n",
       "      <td></td>\n",
       "      <td>33.0</td>\n",
       "      <td>MOVEMANIA</td>\n",
       "      <td>People &amp; Blogs</td>\n",
       "      <td>['Entertainment']</td>\n",
       "    </tr>\n",
       "    <tr>\n",
       "      <th>938</th>\n",
       "      <td>1178</td>\n",
       "      <td>https://www.youtube.com/shorts/Dhtwz5VWkOY</td>\n",
       "      <td>Dhtwz5VWkOY</td>\n",
       "      <td>2</td>\n",
       "      <td>Pets &amp; Animals</td>\n",
       "      <td>Dog Training</td>\n",
       "      <td>['watch']</td>\n",
       "      <td>The user would watch the video because it is r...</td>\n",
       "      <td>3.10743451118469</td>\n",
       "      <td>2024-06-09 01:21:24</td>\n",
       "      <td>Sapphie the pomsky tells daddy to make dinner ...</td>\n",
       "      <td>Sapphie the pomsky tells daddy to make dinner ...</td>\n",
       "      <td>['sapphiethepomsky', 'sapphie', 'pomsky', 'pom...</td>\n",
       "      <td>18.0</td>\n",
       "      <td>sapphie_the_pomsky</td>\n",
       "      <td>Pets &amp; Animals</td>\n",
       "      <td>['Lifestyle_(sociology)', 'Pet']</td>\n",
       "    </tr>\n",
       "    <tr>\n",
       "      <th>939</th>\n",
       "      <td>1179</td>\n",
       "      <td>https://www.youtube.com/shorts/htHGIrJe5yw</td>\n",
       "      <td>htHGIrJe5yw</td>\n",
       "      <td>2</td>\n",
       "      <td>Sports</td>\n",
       "      <td>Football</td>\n",
       "      <td>['watch']</td>\n",
       "      <td>The user would watch the video because it is r...</td>\n",
       "      <td>2.41717290878296</td>\n",
       "      <td>2024-06-09 01:21:48</td>\n",
       "      <td>Reason Why Barcelona Fans Hate Cristiano Ronal...</td>\n",
       "      <td></td>\n",
       "      <td></td>\n",
       "      <td>41.0</td>\n",
       "      <td>@xa07_Editx</td>\n",
       "      <td>Sports</td>\n",
       "      <td>['Association_football', 'Sport']</td>\n",
       "    </tr>\n",
       "  </tbody>\n",
       "</table>\n",
       "<p>940 rows × 17 columns</p>\n",
       "</div>"
      ]
     },
     "execution_count": 141,
     "metadata": {},
     "output_type": "execute_result"
    }
   ],
   "execution_count": 141
  },
  {
   "metadata": {},
   "cell_type": "markdown",
   "source": "Checking data for missing values",
   "id": "f2f474e7a97ab60c"
  },
  {
   "metadata": {
    "ExecuteTime": {
     "end_time": "2024-07-25T20:33:15.551690Z",
     "start_time": "2024-07-25T20:33:15.547648Z"
    }
   },
   "cell_type": "code",
   "source": "classifications.isnull().sum()",
   "id": "18d02e19291be9ef",
   "outputs": [
    {
     "data": {
      "text/plain": [
       "id                       0\n",
       "url                      0\n",
       "video_id                 0\n",
       "user_id                  0\n",
       "parent_classification    0\n",
       "classification           0\n",
       "reaction                 0\n",
       "reason                   0\n",
       "execution_time           0\n",
       "timestamp                0\n",
       "title                    0\n",
       "description              0\n",
       "tags                     0\n",
       "playtime                 0\n",
       "channel_name             0\n",
       "youtube_category         0\n",
       "youtube_topics           0\n",
       "dtype: int64"
      ]
     },
     "execution_count": 142,
     "metadata": {},
     "output_type": "execute_result"
    }
   ],
   "execution_count": 142
  },
  {
   "metadata": {},
   "cell_type": "markdown",
   "source": [
    "### Recoding classifications\n",
    "\n",
    "As the classifications were done by an AI in an unbounded setting some of the classifications are very similar to each other. Therefore we will ask the AI to combine similar classifications into one."
   ],
   "id": "a87386e64a889ecd"
  },
  {
   "metadata": {
    "ExecuteTime": {
     "end_time": "2024-07-25T20:33:15.557578Z",
     "start_time": "2024-07-25T20:33:15.552694Z"
    }
   },
   "cell_type": "code",
   "source": [
    "# Get all unique classifications and parent classifications\n",
    "unique_classifications = classifications['classification'].unique()\n",
    "unique_parent_classifications = classifications['parent_classification'].unique()\n",
    "\n",
    "# Combine similar classifications using a llm\n",
    "\n",
    "delimiter = '####'\n",
    "\n",
    "system_message_remap = '''\n",
    "\n",
    "Here is a list of classifications. Some of the classifications are very similar to each other. Can you group similar classifications together? \n",
    "\n",
    "What is meant by \"similar\" is that the classifications are related to the same topic or category. For example, \"Football Highlights\" and \"Soccer Highlights\" are similar because they are both related to Football it is just different ways of saying the same thing. Furthermore some categories encompass other categories for example \"Pets and Animals\" encompasses \"Pets\" so they should be combined into one category as well.\n",
    "\n",
    "Example:\n",
    "\n",
    "{\n",
    "    \"Advertising\": [\"Advertising\"],\n",
    "    \"Art\": [\"Art\", \"Performing Arts\"],\n",
    "    \"Automotive\": [\"Automotive\", \"Autos & Vehicles\", \"Vehicle\", \"Vehicles\"]\n",
    "}\n",
    "\n",
    "Ensure that the response is in JSON format but do not return code, only the JSON object as a string.\n",
    "\n",
    "'''\n",
    "\n",
    "user_message_remap = '''\n",
    "classifications: {classifications}\n",
    "'''\n",
    "\n",
    "messages_remap_parents = [\n",
    "    {'role': 'system',\n",
    "     'content': system_message_remap},\n",
    "    {'role': 'user',\n",
    "     'content': f\"{delimiter}{user_message_remap.format(classifications=unique_parent_classifications)}{delimiter}\"},\n",
    "]\n",
    "\n",
    "messages_remap = [\n",
    "    {'role': 'system',\n",
    "     'content': system_message_remap},\n",
    "    {'role': 'user',\n",
    "     'content': f\"{delimiter}{user_message_remap.format(classifications=unique_classifications)}{delimiter}\"},\n",
    "]"
   ],
   "id": "9fe43b1c3634c261",
   "outputs": [],
   "execution_count": 143
  },
  {
   "metadata": {},
   "cell_type": "markdown",
   "source": "Now that we have the remapping we can apply it to the data",
   "id": "421488e2e23322ea"
  },
  {
   "metadata": {
    "ExecuteTime": {
     "end_time": "2024-07-25T20:33:19.437678Z",
     "start_time": "2024-07-25T20:33:15.557578Z"
    }
   },
   "cell_type": "code",
   "source": [
    "response_parents = get_completion_from_messages(messages_remap_parents)\n",
    "parent_classification_remapping = json.loads(response_parents)\n",
    "parent_classification_remapping"
   ],
   "id": "13b9881edccd5df7",
   "outputs": [
    {
     "data": {
      "text/plain": [
       "{'Music': ['Music'],\n",
       " 'Comedy': ['Comedy', 'Memes'],\n",
       " 'Entertainment': ['Entertainment', 'Film & Animation', 'Film'],\n",
       " 'Howto & Style': ['Howto & Style', 'How-to'],\n",
       " 'Lifestyle': ['Lifestyle', 'Beauty', 'Fashion'],\n",
       " 'Gaming': ['Gaming', 'Games', 'Video Games'],\n",
       " 'Sports': ['Sports', 'Sport'],\n",
       " 'Performing Arts': ['Performing Arts'],\n",
       " 'People & Blogs': ['People & Blogs'],\n",
       " 'Technology': ['Technology', 'Science & Technology'],\n",
       " 'Business': ['Business', 'Finance', 'Marketing'],\n",
       " 'Pets & Animals': ['Pets & Animals', 'Pets', 'Nature'],\n",
       " 'Automotive': ['Automotive', 'Vehicles', 'Vehicle', 'Autos & Vehicles'],\n",
       " 'Health': ['Health'],\n",
       " 'Knowledge': ['Knowledge', 'Education'],\n",
       " 'Relationships': ['Relationships'],\n",
       " 'Food': ['Food'],\n",
       " 'Hobby': ['Hobby', 'Hobbies'],\n",
       " 'Photography': ['Photography'],\n",
       " 'Society': ['Society'],\n",
       " 'Travel & Events': ['Travel & Events', 'Travel'],\n",
       " 'Art': ['Art']}"
      ]
     },
     "execution_count": 144,
     "metadata": {},
     "output_type": "execute_result"
    }
   ],
   "execution_count": 144
  },
  {
   "metadata": {
    "ExecuteTime": {
     "end_time": "2024-07-25T20:33:19.442931Z",
     "start_time": "2024-07-25T20:33:19.437678Z"
    }
   },
   "cell_type": "code",
   "source": [
    "'''\n",
    "It is not necessary to run this code and often it does not work because the response is too long \n",
    "'''\n",
    "# response = get_completion_from_messages(messages_remap)\n",
    "# classification_remapping = json.loads(response)\n",
    "# classification_remapping"
   ],
   "id": "f7fcadcc9c76efef",
   "outputs": [
    {
     "data": {
      "text/plain": [
       "'\\nIt is not necessary to run this code and often it does not work because the response is too long \\n'"
      ]
     },
     "execution_count": 145,
     "metadata": {},
     "output_type": "execute_result"
    }
   ],
   "execution_count": 145
  },
  {
   "metadata": {
    "ExecuteTime": {
     "end_time": "2024-07-25T20:33:19.450659Z",
     "start_time": "2024-07-25T20:33:19.442931Z"
    }
   },
   "cell_type": "code",
   "source": [
    "# Remap parent classifications where the key is the new classification and the value is the list of old classifications that map to it\n",
    "\n",
    "def classification_change(classification, remapper):\n",
    "    for key, value in remapper.items():\n",
    "        if classification in value:\n",
    "            return key\n",
    "    return classification\n",
    "\n",
    "'''\n",
    "It is not necessary to run this code as classifications are supposed to be quite ambiguous and detailed. \n",
    "Futhermore, the number of categories is often too long to be processed by the API which is why we are only remapping the parent classifications.\n",
    "'''\n",
    "# classifications['remapped_classification'] = classifications['classification'].apply(\n",
    "#     lambda x: classification_change(x, classification_remapping))\n",
    "\n",
    "classifications['remapped_parent_classification'] = classifications['parent_classification'].apply(\n",
    "    lambda x: classification_change(x, parent_classification_remapping))"
   ],
   "id": "3c1604243d10b848",
   "outputs": [],
   "execution_count": 146
  },
  {
   "metadata": {},
   "cell_type": "markdown",
   "source": "We can also recode the reactions to be binary values",
   "id": "1bc25f9e5269d3a"
  },
  {
   "metadata": {
    "ExecuteTime": {
     "end_time": "2024-07-25T20:33:19.459448Z",
     "start_time": "2024-07-25T20:33:19.450659Z"
    }
   },
   "cell_type": "code",
   "source": [
    "def isPositive(reaction):\n",
    "    for i in reaction:\n",
    "        if i in ['like', 'watch', 'share', 'positive']:\n",
    "            return True\n",
    "    return False\n",
    "\n",
    "def isNegative(reaction):\n",
    "    for i in reaction:\n",
    "        if i in ['dislike', 'skip', 'negative']:\n",
    "            return True\n",
    "    return False\n",
    "\n",
    "classifications['reaction'] = classifications['reaction'].apply(ast.literal_eval)\n",
    "classifications['positive'] = classifications['reaction'].apply(lambda x: 1 if isPositive(x) else 0)\n",
    "classifications['negative'] = classifications['reaction'].apply(lambda x: 1 if isNegative(x) else 0)"
   ],
   "id": "dda77448e9a20a86",
   "outputs": [],
   "execution_count": 147
  },
  {
   "metadata": {},
   "cell_type": "markdown",
   "source": "Now we can save the data to a csv file so that it can be used for analysis",
   "id": "37b953162f4a7553"
  },
  {
   "metadata": {
    "ExecuteTime": {
     "end_time": "2024-07-25T20:33:19.473388Z",
     "start_time": "2024-07-25T20:33:19.460450Z"
    }
   },
   "cell_type": "code",
   "source": [
    "data_path = f'../Output_data/classifications_{username}.csv'\n",
    "classifications.to_csv(data_path, index=False)"
   ],
   "id": "158d4a478416d6ac",
   "outputs": [],
   "execution_count": 148
  }
 ],
 "metadata": {
  "kernelspec": {
   "display_name": "Python 3",
   "language": "python",
   "name": "python3"
  },
  "language_info": {
   "codemirror_mode": {
    "name": "ipython",
    "version": 2
   },
   "file_extension": ".py",
   "mimetype": "text/x-python",
   "name": "python",
   "nbconvert_exporter": "python",
   "pygments_lexer": "ipython2",
   "version": "2.7.6"
  }
 },
 "nbformat": 4,
 "nbformat_minor": 5
}
